{
 "cells": [
  {
   "cell_type": "markdown",
   "id": "0",
   "metadata": {},
   "source": [
    "# GeoPandas\n",
    "\n",
    "[![Open In Colab](https://colab.research.google.com/assets/colab-badge.svg)](https://colab.research.google.com/github/giswqs/geog-312/blob/main/book/geospatial/geopandas.ipynb)\n",
    "\n",
    "## Overview\n",
    "\n",
    "[GeoPandas](https://geopandas.org) is an open-source Python library that simplifies working with geospatial data by extending Pandas data structures. It seamlessly integrates geospatial operations with a pandas-like interface, allowing for the manipulation of geometric types such as points, lines, and polygons. GeoPandas combines the functionalities of Pandas and Shapely, enabling geospatial operations like spatial joins, buffering, intersections, and projections with ease.\n",
    "\n",
    "## Learning Objectives\n",
    "\n",
    "By the end of this lecture, you should be able to:\n",
    "\n",
    "- Understand the basic data structures in GeoPandas: `GeoDataFrame` and `GeoSeries`.\n",
    "- Create `GeoDataFrames` from tabular data and geometric shapes.\n",
    "- Read and write geospatial data formats like Shapefile and GeoJSON.\n",
    "- Perform common geospatial operations such as measuring areas, distances, and spatial relationships.\n",
    "- Visualize geospatial data using Matplotlib and GeoPandas' built-in plotting functions.\n",
    "- Work with different Coordinate Reference Systems (CRS) and project geospatial data.\n",
    "\n",
    "## Concepts\n",
    "\n",
    "The core data structures in GeoPandas are `GeoDataFrame` and `GeoSeries`. A `GeoDataFrame` extends the functionality of a Pandas DataFrame by adding a geometry column, allowing spatial data operations on geometric shapes. The `GeoSeries` handles geometric data (points, polygons, etc.).\n",
    "\n",
    "A `GeoDataFrame` can have multiple geometry columns, but only one is considered the active geometry at any time. All spatial operations are applied to this active geometry, accessible via the `.geometry` attribute."
   ]
  },
  {
   "cell_type": "markdown",
   "id": "1",
   "metadata": {},
   "source": [
    "## Installing and Importing GeoPandas\n",
    "\n",
    "Before we begin, make sure you have geopandas installed. You can install it using:"
   ]
  },
  {
   "cell_type": "code",
   "execution_count": null,
   "id": "2",
   "metadata": {},
   "outputs": [],
   "source": [
    "# %pip install geopandas"
   ]
  },
  {
   "cell_type": "markdown",
   "id": "3",
   "metadata": {},
   "source": [
    "Once installed, import GeoPandas and other necessary libraries:"
   ]
  },
  {
   "cell_type": "code",
   "execution_count": 4,
   "id": "4",
   "metadata": {},
   "outputs": [],
   "source": [
    "import pandas as pd\n",
    "import geopandas as gpd\n",
    "import matplotlib.pyplot as plt"
   ]
  },
  {
   "cell_type": "markdown",
   "id": "5",
   "metadata": {},
   "source": [
    "## Creating GeoDataFrames\n",
    "\n",
    "A GeoDataFrame is a tabular data structure that contains a `geometry` column, which holds the geometric shapes. You can create a GeoDataFrame from a list of geometries or from a pandas DataFrame."
   ]
  },
  {
   "cell_type": "code",
   "execution_count": 5,
   "id": "6",
   "metadata": {},
   "outputs": [
    {
     "data": {
      "text/html": [
       "<div>\n",
       "<style scoped>\n",
       "    .dataframe tbody tr th:only-of-type {\n",
       "        vertical-align: middle;\n",
       "    }\n",
       "\n",
       "    .dataframe tbody tr th {\n",
       "        vertical-align: top;\n",
       "    }\n",
       "\n",
       "    .dataframe thead th {\n",
       "        text-align: right;\n",
       "    }\n",
       "</style>\n",
       "<table border=\"1\" class=\"dataframe\">\n",
       "  <thead>\n",
       "    <tr style=\"text-align: right;\">\n",
       "      <th></th>\n",
       "      <th>City</th>\n",
       "      <th>Latitude</th>\n",
       "      <th>Longitude</th>\n",
       "    </tr>\n",
       "  </thead>\n",
       "  <tbody>\n",
       "    <tr>\n",
       "      <th>0</th>\n",
       "      <td>Tokyo</td>\n",
       "      <td>35.6895</td>\n",
       "      <td>139.6917</td>\n",
       "    </tr>\n",
       "    <tr>\n",
       "      <th>1</th>\n",
       "      <td>New York</td>\n",
       "      <td>40.7128</td>\n",
       "      <td>-74.0060</td>\n",
       "    </tr>\n",
       "    <tr>\n",
       "      <th>2</th>\n",
       "      <td>London</td>\n",
       "      <td>51.5074</td>\n",
       "      <td>-0.1278</td>\n",
       "    </tr>\n",
       "    <tr>\n",
       "      <th>3</th>\n",
       "      <td>Paris</td>\n",
       "      <td>48.8566</td>\n",
       "      <td>2.3522</td>\n",
       "    </tr>\n",
       "  </tbody>\n",
       "</table>\n",
       "</div>"
      ],
      "text/plain": [
       "       City  Latitude  Longitude\n",
       "0     Tokyo   35.6895   139.6917\n",
       "1  New York   40.7128   -74.0060\n",
       "2    London   51.5074    -0.1278\n",
       "3     Paris   48.8566     2.3522"
      ]
     },
     "execution_count": 5,
     "metadata": {},
     "output_type": "execute_result"
    }
   ],
   "source": [
    "# Creating a GeoDataFrame from scratch\n",
    "data = {\n",
    "    \"City\": [\"Tokyo\", \"New York\", \"London\", \"Paris\"],\n",
    "    \"Latitude\": [35.6895, 40.7128, 51.5074, 48.8566],\n",
    "    \"Longitude\": [139.6917, -74.0060, -0.1278, 2.3522],\n",
    "}\n",
    "\n",
    "df = pd.DataFrame(data)\n",
    "df"
   ]
  },
  {
   "cell_type": "code",
   "execution_count": 6,
   "id": "58ab76f0",
   "metadata": {},
   "outputs": [
    {
     "data": {
      "text/html": [
       "<div>\n",
       "<style scoped>\n",
       "    .dataframe tbody tr th:only-of-type {\n",
       "        vertical-align: middle;\n",
       "    }\n",
       "\n",
       "    .dataframe tbody tr th {\n",
       "        vertical-align: top;\n",
       "    }\n",
       "\n",
       "    .dataframe thead th {\n",
       "        text-align: right;\n",
       "    }\n",
       "</style>\n",
       "<table border=\"1\" class=\"dataframe\">\n",
       "  <thead>\n",
       "    <tr style=\"text-align: right;\">\n",
       "      <th></th>\n",
       "      <th>City</th>\n",
       "      <th>Latitude</th>\n",
       "      <th>Longitude</th>\n",
       "      <th>geometry</th>\n",
       "    </tr>\n",
       "  </thead>\n",
       "  <tbody>\n",
       "    <tr>\n",
       "      <th>0</th>\n",
       "      <td>Tokyo</td>\n",
       "      <td>35.6895</td>\n",
       "      <td>139.6917</td>\n",
       "      <td>POINT (139.69170 35.68950)</td>\n",
       "    </tr>\n",
       "    <tr>\n",
       "      <th>1</th>\n",
       "      <td>New York</td>\n",
       "      <td>40.7128</td>\n",
       "      <td>-74.0060</td>\n",
       "      <td>POINT (-74.00600 40.71280)</td>\n",
       "    </tr>\n",
       "    <tr>\n",
       "      <th>2</th>\n",
       "      <td>London</td>\n",
       "      <td>51.5074</td>\n",
       "      <td>-0.1278</td>\n",
       "      <td>POINT (-0.12780 51.50740)</td>\n",
       "    </tr>\n",
       "    <tr>\n",
       "      <th>3</th>\n",
       "      <td>Paris</td>\n",
       "      <td>48.8566</td>\n",
       "      <td>2.3522</td>\n",
       "      <td>POINT (2.35220 48.85660)</td>\n",
       "    </tr>\n",
       "  </tbody>\n",
       "</table>\n",
       "</div>"
      ],
      "text/plain": [
       "       City  Latitude  Longitude                    geometry\n",
       "0     Tokyo   35.6895   139.6917  POINT (139.69170 35.68950)\n",
       "1  New York   40.7128   -74.0060  POINT (-74.00600 40.71280)\n",
       "2    London   51.5074    -0.1278   POINT (-0.12780 51.50740)\n",
       "3     Paris   48.8566     2.3522    POINT (2.35220 48.85660)"
      ]
     },
     "execution_count": 6,
     "metadata": {},
     "output_type": "execute_result"
    }
   ],
   "source": [
    "gdf = gpd.GeoDataFrame(df, geometry=gpd.points_from_xy(df.Longitude, df.Latitude))\n",
    "gdf"
   ]
  },
  {
   "cell_type": "markdown",
   "id": "7",
   "metadata": {},
   "source": [
    "## Reading and Writing Geospatial Data\n",
    "\n",
    "GeoPandas allows reading and writing a variety of geospatial formats, such as Shapefiles, GeoJSON, and more. We'll use a GeoJSON dataset of New York City borough boundaries.\n",
    "\n",
    "### Reading a GeoJSON File\n",
    "\n",
    "We'll load the New York boroughs dataset from a GeoJSON file hosted online."
   ]
  },
  {
   "cell_type": "code",
   "execution_count": 12,
   "id": "8",
   "metadata": {},
   "outputs": [
    {
     "data": {
      "text/html": [
       "<div>\n",
       "<style scoped>\n",
       "    .dataframe tbody tr th:only-of-type {\n",
       "        vertical-align: middle;\n",
       "    }\n",
       "\n",
       "    .dataframe tbody tr th {\n",
       "        vertical-align: top;\n",
       "    }\n",
       "\n",
       "    .dataframe thead th {\n",
       "        text-align: right;\n",
       "    }\n",
       "</style>\n",
       "<table border=\"1\" class=\"dataframe\">\n",
       "  <thead>\n",
       "    <tr style=\"text-align: right;\">\n",
       "      <th></th>\n",
       "      <th>BoroCode</th>\n",
       "      <th>BoroName</th>\n",
       "      <th>Shape_Leng</th>\n",
       "      <th>Shape_Area</th>\n",
       "      <th>geometry</th>\n",
       "    </tr>\n",
       "  </thead>\n",
       "  <tbody>\n",
       "    <tr>\n",
       "      <th>0</th>\n",
       "      <td>5</td>\n",
       "      <td>Staten Island</td>\n",
       "      <td>330470.010332</td>\n",
       "      <td>1.623820e+09</td>\n",
       "      <td>MULTIPOLYGON (((970217.022 145643.332, 970227....</td>\n",
       "    </tr>\n",
       "    <tr>\n",
       "      <th>1</th>\n",
       "      <td>4</td>\n",
       "      <td>Queens</td>\n",
       "      <td>896344.047763</td>\n",
       "      <td>3.045213e+09</td>\n",
       "      <td>MULTIPOLYGON (((1029606.077 156073.814, 102957...</td>\n",
       "    </tr>\n",
       "    <tr>\n",
       "      <th>2</th>\n",
       "      <td>3</td>\n",
       "      <td>Brooklyn</td>\n",
       "      <td>741080.523166</td>\n",
       "      <td>1.937479e+09</td>\n",
       "      <td>MULTIPOLYGON (((1021176.479 151374.797, 102100...</td>\n",
       "    </tr>\n",
       "    <tr>\n",
       "      <th>3</th>\n",
       "      <td>1</td>\n",
       "      <td>Manhattan</td>\n",
       "      <td>359299.096471</td>\n",
       "      <td>6.364715e+08</td>\n",
       "      <td>MULTIPOLYGON (((981219.056 188655.316, 980940....</td>\n",
       "    </tr>\n",
       "    <tr>\n",
       "      <th>4</th>\n",
       "      <td>2</td>\n",
       "      <td>Bronx</td>\n",
       "      <td>464392.991824</td>\n",
       "      <td>1.186925e+09</td>\n",
       "      <td>MULTIPOLYGON (((1012821.806 229228.265, 101278...</td>\n",
       "    </tr>\n",
       "  </tbody>\n",
       "</table>\n",
       "</div>"
      ],
      "text/plain": [
       "   BoroCode       BoroName     Shape_Leng    Shape_Area  \\\n",
       "0         5  Staten Island  330470.010332  1.623820e+09   \n",
       "1         4         Queens  896344.047763  3.045213e+09   \n",
       "2         3       Brooklyn  741080.523166  1.937479e+09   \n",
       "3         1      Manhattan  359299.096471  6.364715e+08   \n",
       "4         2          Bronx  464392.991824  1.186925e+09   \n",
       "\n",
       "                                            geometry  \n",
       "0  MULTIPOLYGON (((970217.022 145643.332, 970227....  \n",
       "1  MULTIPOLYGON (((1029606.077 156073.814, 102957...  \n",
       "2  MULTIPOLYGON (((1021176.479 151374.797, 102100...  \n",
       "3  MULTIPOLYGON (((981219.056 188655.316, 980940....  \n",
       "4  MULTIPOLYGON (((1012821.806 229228.265, 101278...  "
      ]
     },
     "execution_count": 12,
     "metadata": {},
     "output_type": "execute_result"
    }
   ],
   "source": [
    "url = \"https://github.com/opengeos/datasets/releases/download/vector/nybb.geojson\"\n",
    "gdf = gpd.read_file(url)\n",
    "gdf\n"
   ]
  },
  {
   "cell_type": "markdown",
   "id": "9",
   "metadata": {},
   "source": [
    "This `GeoDataFrame` contains several columns, including `BoroName`, which represents the names of the boroughs, and `geometry`, which stores the polygons for each borough.\n",
    "\n",
    "### Writing to a GeoJSON File\n",
    "\n",
    "GeoPandas also supports saving geospatial data back to disk. For example, we can save the GeoDataFrame as a new GeoJSON file:"
   ]
  },
  {
   "cell_type": "code",
   "execution_count": 14,
   "id": "10",
   "metadata": {},
   "outputs": [
    {
     "name": "stdout",
     "output_type": "stream",
     "text": [
      "GeoDataFrame has been written to nyc_boroughs_new.geojson\n"
     ]
    }
   ],
   "source": [
    "output_file = \"nyc_boroughs.geojson\"\n",
    "gdf.to_file(output_file, driver=\"GeoJSON\")\n",
    "# driver = \"GeoJSON\" is optional as python can infer the file format from the file extension\n",
    "print(f\"GeoDataFrame has been written to {output_file}\")"
   ]
  },
  {
   "cell_type": "markdown",
   "id": "11",
   "metadata": {},
   "source": [
    "Similarly, you can write GeoDataFrames to other formats, such as Shapefiles, GeoPackage, and more."
   ]
  },
  {
   "cell_type": "code",
   "execution_count": 15,
   "id": "12",
   "metadata": {},
   "outputs": [],
   "source": [
    "output_file = \"nyc_boroughs.shp\"\n",
    "gdf.to_file(output_file)"
   ]
  },
  {
   "cell_type": "code",
   "execution_count": 16,
   "id": "13",
   "metadata": {},
   "outputs": [],
   "source": [
    "output_file = \"nyc_boroughs.gpkg\"\n",
    "gdf.to_file(output_file, driver=\"GPKG\")"
   ]
  },
  {
   "cell_type": "code",
   "execution_count": null,
   "id": "1453e2d2",
   "metadata": {},
   "outputs": [],
   "source": [
    "output_file = \"nyc_boroughs.gpkg\"\n",
    "gdf.to_file(output_file, driver=\"GPKG\")"
   ]
  },
  {
   "cell_type": "markdown",
   "id": "14",
   "metadata": {},
   "source": [
    "## Simple Accessors and Methods\n",
    "\n",
    "Now that we have the data, let's explore some simple GeoPandas methods to manipulate and analyze the geometric data.\n",
    "\n",
    "### Measuring Area\n",
    "\n",
    "We can calculate the area of each borough. GeoPandas automatically calculates the area of each polygon:"
   ]
  },
  {
   "cell_type": "code",
   "execution_count": null,
   "id": "15",
   "metadata": {},
   "outputs": [],
   "source": [
    "# Set BoroName as the index for easier reference\n",
    "gdf = gdf.set_index(\"BoroName\")\n",
    "\n",
    "# Calculate the area\n",
    "gdf[\"area\"] = gdf.area\n",
    "gdf"
   ]
  },
  {
   "cell_type": "markdown",
   "id": "16",
   "metadata": {},
   "source": [
    "### Getting Polygon Boundaries and Centroids\n",
    "\n",
    "To get the boundary (lines) and centroid (center point) of each polygon:"
   ]
  },
  {
   "cell_type": "code",
   "execution_count": null,
   "id": "17",
   "metadata": {},
   "outputs": [],
   "source": [
    "# Get the boundary of each polygon\n",
    "gdf[\"boundary\"] = gdf.boundary\n",
    "\n",
    "# Get the centroid of each polygon\n",
    "gdf[\"centroid\"] = gdf.centroid\n",
    "\n",
    "gdf[[\"boundary\", \"centroid\"]]"
   ]
  },
  {
   "cell_type": "markdown",
   "id": "18",
   "metadata": {},
   "source": [
    "### Measuring Distance\n",
    "\n",
    "We can also measure the distance from each borough's centroid to a reference point, such as the centroid of Manhattan."
   ]
  },
  {
   "cell_type": "code",
   "execution_count": null,
   "id": "19",
   "metadata": {},
   "outputs": [],
   "source": [
    "# Use Manhattan's centroid as the reference point\n",
    "manhattan_centroid = gdf.loc[\"Manhattan\", \"centroid\"]\n",
    "\n",
    "# Calculate the distance from each centroid to Manhattan's centroid\n",
    "gdf[\"distance_to_manhattan\"] = gdf[\"centroid\"].distance(manhattan_centroid)\n",
    "gdf[[\"centroid\", \"distance_to_manhattan\"]]"
   ]
  },
  {
   "cell_type": "markdown",
   "id": "20",
   "metadata": {},
   "source": [
    "### Calculating Mean Distance\n",
    "\n",
    "We can calculate the mean distance between the borough centroids and Manhattan:"
   ]
  },
  {
   "cell_type": "code",
   "execution_count": null,
   "id": "21",
   "metadata": {},
   "outputs": [],
   "source": [
    "mean_distance = gdf[\"distance_to_manhattan\"].mean()\n",
    "print(f\"Mean distance to Manhattan: {mean_distance} units\")"
   ]
  },
  {
   "cell_type": "markdown",
   "id": "22",
   "metadata": {},
   "source": [
    "## Plotting Geospatial Data\n",
    "\n",
    "GeoPandas integrates with Matplotlib for easy plotting of geospatial data. Let's create some maps to visualize the data.\n",
    "\n",
    "### Plotting the Area of Each Borough\n",
    "\n",
    "We can color the boroughs based on their area and display a legend:"
   ]
  },
  {
   "cell_type": "code",
   "execution_count": null,
   "id": "23",
   "metadata": {},
   "outputs": [],
   "source": [
    "gdf.plot(\"area\", legend=True, figsize=(10, 6))\n",
    "plt.title(\"NYC Boroughs by Area\")\n",
    "plt.show()"
   ]
  },
  {
   "cell_type": "markdown",
   "id": "24",
   "metadata": {},
   "source": [
    "### Plotting Centroids and Boundaries\n",
    "\n",
    "We can also plot the centroids and boundaries:"
   ]
  },
  {
   "cell_type": "code",
   "execution_count": null,
   "id": "25",
   "metadata": {},
   "outputs": [],
   "source": [
    "# Plot the boundaries and centroids\n",
    "ax = gdf[\"geometry\"].plot(figsize=(10, 6), edgecolor=\"black\")\n",
    "gdf[\"centroid\"].plot(ax=ax, color=\"red\", markersize=50)\n",
    "plt.title(\"NYC Borough Boundaries and Centroids\")\n",
    "plt.show()"
   ]
  },
  {
   "cell_type": "markdown",
   "id": "26",
   "metadata": {},
   "source": [
    "You can also explore your data interactively using `GeoDataFrame.explore()`, which behaves in the same way `plot()` does but returns an interactive map instead."
   ]
  },
  {
   "cell_type": "code",
   "execution_count": null,
   "id": "27",
   "metadata": {},
   "outputs": [],
   "source": [
    "gdf.explore(\"area\", legend=False)"
   ]
  },
  {
   "cell_type": "markdown",
   "id": "28",
   "metadata": {},
   "source": [
    "## Geometry Manipulations\n",
    "\n",
    "GeoPandas provides several methods for manipulating geometries, such as buffering (creating a buffer zone around geometries) and computing convex hulls (the smallest convex shape enclosing the geometries).\n",
    "\n",
    "### Buffering Geometries\n",
    "\n",
    "We can create a buffer zone around each borough:"
   ]
  },
  {
   "cell_type": "code",
   "execution_count": null,
   "id": "29",
   "metadata": {},
   "outputs": [],
   "source": [
    "# Buffer the boroughs by 10000 feet\n",
    "gdf[\"buffered\"] = gdf.buffer(10000)\n",
    "\n",
    "# Plot the buffered geometries\n",
    "gdf[\"buffered\"].plot(alpha=0.5, edgecolor=\"black\")\n",
    "plt.title(\"Buffered NYC Boroughs (10,000 feet)\")\n",
    "plt.show()"
   ]
  },
  {
   "cell_type": "markdown",
   "id": "30",
   "metadata": {},
   "source": [
    "### Convex Hulls\n",
    "\n",
    "The convex hull is the smallest convex shape that can enclose a geometry. Let's calculate the convex hull for each borough:"
   ]
  },
  {
   "cell_type": "code",
   "execution_count": null,
   "id": "31",
   "metadata": {},
   "outputs": [],
   "source": [
    "# Calculate convex hull\n",
    "gdf[\"convex_hull\"] = gdf.convex_hull\n",
    "\n",
    "# Plot the convex hulls\n",
    "gdf[\"convex_hull\"].plot(alpha=0.5, color=\"lightblue\", edgecolor=\"black\")\n",
    "plt.title(\"Convex Hull of NYC Boroughs\")\n",
    "plt.show()"
   ]
  },
  {
   "cell_type": "markdown",
   "id": "32",
   "metadata": {},
   "source": [
    "## Spatial Queries and Relations\n",
    "\n",
    "We can also perform spatial queries to examine relationships between geometries. For instance, we can check which boroughs are within a certain distance of Manhattan.\n",
    "\n",
    "### Checking for Intersections\n",
    "\n",
    "We can find which boroughs' buffered areas intersect with the original geometry of Manhattan:"
   ]
  },
  {
   "cell_type": "code",
   "execution_count": null,
   "id": "33",
   "metadata": {},
   "outputs": [],
   "source": [
    "# Get the geometry of Manhattan\n",
    "manhattan_geom = gdf.loc[\"Manhattan\", \"geometry\"]\n",
    "\n",
    "# Check which buffered boroughs intersect with Manhattan's geometry\n",
    "gdf[\"intersects_manhattan\"] = gdf[\"buffered\"].intersects(manhattan_geom)\n",
    "gdf[[\"intersects_manhattan\"]]"
   ]
  },
  {
   "cell_type": "markdown",
   "id": "34",
   "metadata": {},
   "source": [
    "### Checking for Containment\n",
    "\n",
    "Similarly, we can check if the centroids are contained within the borough boundaries:"
   ]
  },
  {
   "cell_type": "code",
   "execution_count": null,
   "id": "35",
   "metadata": {},
   "outputs": [],
   "source": [
    "# Check if centroids are within the original borough geometries\n",
    "gdf[\"centroid_within_borough\"] = gdf[\"centroid\"].within(gdf[\"geometry\"])\n",
    "gdf[[\"centroid_within_borough\"]]"
   ]
  },
  {
   "cell_type": "markdown",
   "id": "36",
   "metadata": {},
   "source": [
    "## Projections and Coordinate Reference Systems (CRS)\n",
    "\n",
    "GeoPandas makes it easy to manage projections. Each GeoSeries and GeoDataFrame has a crs attribute that defines its CRS.\n",
    "\n",
    "### Checking the CRS\n",
    "\n",
    "Let's check the CRS of the boroughs dataset:"
   ]
  },
  {
   "cell_type": "code",
   "execution_count": null,
   "id": "37",
   "metadata": {},
   "outputs": [],
   "source": [
    "print(gdf.crs)"
   ]
  },
  {
   "cell_type": "markdown",
   "id": "38",
   "metadata": {},
   "source": [
    "The CRS for this dataset is [`EPSG:2263`](https://epsg.io/2263) (NAD83 / New York State Plane). We can reproject the geometries to WGS84 ([`EPSG:4326`](https://epsg.io/4326)), which uses latitude and longitude coordinates.\n",
    "\n",
    "[EPSG](https://epsg.io) stands for European Petroleum Survey Group, which was a scientific organization that standardized geodetic and coordinate reference systems. EPSG codes are unique identifiers that represent coordinate systems and other geodetic properties. \n",
    "\n",
    "### Reprojecting to WGS84"
   ]
  },
  {
   "cell_type": "code",
   "execution_count": null,
   "id": "39",
   "metadata": {},
   "outputs": [],
   "source": [
    "# Reproject the GeoDataFrame to WGS84 (EPSG:4326)\n",
    "gdf_4326 = gdf.to_crs(epsg=4326)\n",
    "\n",
    "# Plot the reprojected geometries\n",
    "gdf_4326.plot(figsize=(10, 6), edgecolor=\"black\")\n",
    "plt.title(\"NYC Boroughs in WGS84 (EPSG:4326)\")\n",
    "plt.show()"
   ]
  },
  {
   "cell_type": "markdown",
   "id": "40",
   "metadata": {},
   "source": [
    "Notice how the coordinates have changed from feet to degrees."
   ]
  },
  {
   "cell_type": "markdown",
   "id": "41",
   "metadata": {},
   "source": [
    "## Exercises\n",
    "\n",
    "1. Create a GeoDataFrame containing a list of countries and their capital cities. Add a geometry column with the locations of the capitals.\n",
    "2. Load a shapefile of your choice, filter the data to only include a specific region or country, and save the filtered GeoDataFrame to a new file.\n",
    "3. Perform a spatial join between two GeoDataFrames: one containing polygons (e.g., country borders) and one containing points (e.g., cities). Find out which points fall within which polygons.\n",
    "4. Plot a map showing the distribution of a particular attribute (e.g., population) across different regions."
   ]
  },
  {
   "cell_type": "code",
   "execution_count": null,
   "id": "42",
   "metadata": {},
   "outputs": [],
   "source": []
  },
  {
   "cell_type": "markdown",
   "id": "43",
   "metadata": {},
   "source": [
    "## Summary\n",
    "\n",
    "This lecture provided an introduction to working with geospatial data using GeoPandas. We covered basic concepts such as reading/writing geospatial data, performing spatial operations (e.g., buffering, intersections), and visualizing geospatial data using maps. GeoPandas, built on Pandas and Shapely, enables efficient and intuitive geospatial analysis in Python."
   ]
  }
 ],
 "metadata": {
  "kernelspec": {
   "display_name": "geo",
   "language": "python",
   "name": "python3"
  },
  "language_info": {
   "codemirror_mode": {
    "name": "ipython",
    "version": 3
   },
   "file_extension": ".py",
   "mimetype": "text/x-python",
   "name": "python",
   "nbconvert_exporter": "python",
   "pygments_lexer": "ipython3",
   "version": "3.11.11"
  }
 },
 "nbformat": 4,
 "nbformat_minor": 5
}
